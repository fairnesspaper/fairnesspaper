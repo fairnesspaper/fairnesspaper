{
 "cells": [
  {
   "cell_type": "code",
   "execution_count": 2,
   "metadata": {},
   "outputs": [],
   "source": [
    "import torch\n",
    "import torch.nn as nn         "
   ]
  },
  {
   "cell_type": "code",
   "execution_count": null,
   "metadata": {},
   "outputs": [
    {
     "name": "stdout",
     "output_type": "stream",
     "text": [
      "MSE Loss: 0.09611582010984421\n"
     ]
    }
   ],
   "source": [
    "\n",
    "# Define the target value and predicted value\n",
    "target = torch.tensor([0])  # Target value\n",
    "# predicted = torch.sigmoid(torch.tensor([-0.8]))  # Predicted value\n",
    "predicted = torch.sigmoid(torch.tensor([0.8])) - 1 # Predicted value\n",
    "\n",
    "\n",
    "# Initialize the MSELoss function\n",
    "mse_loss = nn.MSELoss()\n",
    "\n",
    "# Calculate the loss\n",
    "loss = mse_loss(predicted, target)\n",
    "\n",
    "print(f\"MSE Loss: {loss.item()}\")\n"
   ]
  },
  {
   "cell_type": "code",
   "execution_count": 14,
   "metadata": {},
   "outputs": [
    {
     "name": "stdout",
     "output_type": "stream",
     "text": [
      "tensor([[-1.4846,  1.5574]], requires_grad=True)\n",
      "tensor([0])\n",
      "tensor(3.0886, grad_fn=<NllLossBackward>)\n"
     ]
    }
   ],
   "source": [
    "def loss(s_n, s_p):\n",
    "    return "
   ]
  }
 ],
 "metadata": {
  "kernelspec": {
   "display_name": "base",
   "language": "python",
   "name": "python3"
  },
  "language_info": {
   "codemirror_mode": {
    "name": "ipython",
    "version": 3
   },
   "file_extension": ".py",
   "mimetype": "text/x-python",
   "name": "python",
   "nbconvert_exporter": "python",
   "pygments_lexer": "ipython3",
   "version": "3.12.2"
  }
 },
 "nbformat": 4,
 "nbformat_minor": 4
}
