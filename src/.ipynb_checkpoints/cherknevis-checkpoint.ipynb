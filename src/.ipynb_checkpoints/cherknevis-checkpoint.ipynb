{
 "cells": [
  {
   "cell_type": "code",
   "execution_count": 6,
   "metadata": {},
   "outputs": [
    {
     "name": "stdout",
     "output_type": "stream",
     "text": [
      "hi\n"
     ]
    }
   ],
   "source": [
    "if args.experiment == 'penalty_neg':\n",
    "    batch_score = batch_score + args.regularizer_neg * train_batch['bias'].to(device) * (torch.ones(train_batch['label'].size()).to('cuda')-train_batch['label'].to(device))\n",
    "elif args.experiment == 'penalty_pos':\n",
    "    batch_score = batch_score - args.regularizer_neg * train_batch['bias'].to(device) * train_batch['label'].to(device)\n",
    "elif args.experiment == 'penalty_both':\n",
    "    batch_score = batch_score + args.regularizer_neg * train_batch['bias'].to(device) * (torch.ones(train_batch['label'].size()).to('cuda')- 2*train_batch['label'].to(device))\n",
    "elif args.experiment == 'reward_neg':\n",
    "    batch_score = batch_score - args.regularizer_neg * train_batch['bias'].to(device) * (torch.ones(train_batch['label'].size()).to('cuda')-train_batch['label'].to(device))\n",
    "elif args.experiment == 'reward_pos':\n",
    "    batch_score = batch_score + args.regularizer_neg * train_batch['bias'].to(device) * train_batch['label'].to(device)\n",
    "    \n",
    "elif args.experiment == 'reward_both':    \n",
    "                       "
   ]
  }
 ],
 "metadata": {
  "kernelspec": {
   "display_name": "Python 3",
   "language": "python",
   "name": "python3"
  },
  "language_info": {
   "codemirror_mode": {
    "name": "ipython",
    "version": 3
   },
   "file_extension": ".py",
   "mimetype": "text/x-python",
   "name": "python",
   "nbconvert_exporter": "python",
   "pygments_lexer": "ipython3",
   "version": "3.8.5"
  }
 },
 "nbformat": 4,
 "nbformat_minor": 4
}
